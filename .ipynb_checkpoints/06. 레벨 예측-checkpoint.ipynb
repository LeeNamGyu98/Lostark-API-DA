{
 "cells": [
  {
   "cell_type": "markdown",
   "id": "58ace595",
   "metadata": {},
   "source": [
    "# Info\n",
    "\n",
    "현 예측은 아무런 EDA 과정 없이 추측만을 가지고 Feature를 선택하고 진행하며 모델 선택 및 적용 과정에서도 미흡한 부분이 다수 있을 가능성이 높음.\n",
    "\n",
    "---------------------------------------\n",
    "본 파일은 로스트아크의 캐릭터 스펙(Feature: 각인, 보석, 카드 등)에 따른 아이템 레벨을 예측하고 \n",
    "\n",
    "현재 아이템 레벨에 비해 스펙이 낮을 경우 스펙을 높일 것을 추천하고 \n",
    "\n",
    "아이템 레벨에 비해 스펙이 높을 경우 아이템 레벨을 높일 것을 추천하는 것을 목표로 함.\n",
    "\n",
    "---------------------------------------\n",
    "더 나아가 어떤 스펙을 어느 정도로 올리면 좋은지도 추천해주고자 함."
   ]
  },
  {
   "cell_type": "markdown",
   "id": "3b0568fe",
   "metadata": {},
   "source": [
    "1. profile_table: expeditionLevel, totalSkillPoint, characterLevel, itemMaxLevel\n",
    "2. accessory_table: accessory_quality, accessory_grade, accessory_tier, 팔찌_효과, AS_setLevel\n",
    "3. avatar_table: avatar_grade\n",
    "4. card_table: setName, setPoint\n",
    "5. engraving_table: grantName, grantPoint, engraving_name, engraving_level\n",
    "6. equipment_table: equipment_quality, equipment_grade, equipment_setLevel\n",
    "7. gem_table: gem_grade, gem_level, gem_tier\n",
    "8. skill_table: skill_tripod_point\n",
    "9. stats_table: stat_값"
   ]
  },
  {
   "cell_type": "code",
   "execution_count": 1,
   "id": "54401b12",
   "metadata": {},
   "outputs": [],
   "source": [
    "import sys\n",
    "sys.path.append('./package')\n",
    "import lostark as lok"
   ]
  },
  {
   "cell_type": "code",
   "execution_count": 1,
   "id": "507e5195",
   "metadata": {},
   "outputs": [],
   "source": [
    "import pandas as pd\n",
    "import numpy as np\n",
    "import joblib\n",
    "from pprint import pprint"
   ]
  },
  {
   "cell_type": "code",
   "execution_count": 93,
   "id": "c60a910c",
   "metadata": {},
   "outputs": [],
   "source": [
    "tables = ['profile_table','accessory_table', 'avatar_table', 'card_table', 'engraving_table', \n",
    "         'equipment_table', 'gem_table', 'skill_table', 'stats_table']\n",
    "accessories = ['목걸이', '귀걸이1', '귀걸이2', '반지1', '반지2']\n",
    "accessory_column = ['_quality', '_grade', '_tier']\n",
    "avatars = ['무기1', '무기2', '상의1', '상의2', '하의1', '하의2']\n",
    "avatar_column = ['_grade']\n",
    "equipments = ['무기', '투구', '어깨', '상의', '하의', '장갑']\n",
    "equipment_column = ['_quality', '_grade', '_setLevel']\n",
    "gem_column = ['_grade', '_level', '_tier']\n",
    "stat_column = ['치명', '특화', '신속', '제압', '인내', '숙련']\n",
    "\n",
    "sql = f\"\"\"SELECT profile_table.characterCode, profile_table.expeditionLevel, profile_table.totalSkillPoint,\n",
    "profile_table.characterLevel, profile_table.itemMaxLevel,\n",
    "\n",
    "{', '.join(f\"accessory_table.{accessory}{column}\" for accessory in accessories for column in accessory_column)},\n",
    "\n",
    "{', '.join(f\"avatar_table.{avatar}{column}\" for avatar in avatars for column in avatar_column)},\n",
    "\n",
    "{', '.join(f\"card_table.setName{i}, card_table.setPoint{i}\" for i in range(1, 5))},\n",
    "\n",
    "{', '.join(f\"engraving_table.grantName{i}, engraving_table.grantPoint{i}\" for i in range(1, 3))},\n",
    "{', '.join(f\"engraving_table.engraving{i}_name, engraving_table.engraving{i}_level\" for i in range(1, 12))},\n",
    "\n",
    "{', '.join(f\"equipment_table.{equipment}{column}\" for equipment in equipments for column in equipment_column)},\n",
    "\n",
    "{', '.join(f\"gem_table.gem{i}{column}\" for i in range(1, 12) for column in gem_column)},\n",
    "\n",
    "{', '.join(f\"skill_table.skill{i}_tripod{j}_point\" for i in range(1, 17) for j in range(1, 4))},\n",
    "\n",
    "{', '.join(f\"stats_table.{column}_값\" for column in stat_column)}\n",
    "\n",
    "FROM profile_table\n",
    "{' '.join(f\"INNER JOIN {tables[i+1]} ON {tables[i]}.characterCode = {tables[i+1]}.characterCode\"\n",
    "for i in range(len(tables)-1))};\n",
    "\"\"\"\n",
    "db, cursor = lok.get_db_cursor()\n",
    "cursor.execute(sql)\n",
    "df = pd.DataFrame(cursor.fetchall())\n",
    "db.close()"
   ]
  },
  {
   "cell_type": "code",
   "execution_count": 94,
   "id": "f5ec70ea",
   "metadata": {},
   "outputs": [],
   "source": [
    "columns = [\"characterCode\", \"expeditionLevel\", \"totalSkillPoint\", \"characterLevel\", \"itemMaxLevel\"]\n",
    "for accessory in accessories:\n",
    "    for column in accessory_column:\n",
    "        columns.append(f\"{accessory}{column}\")\n",
    "for avatar in avatars :\n",
    "    for column in avatar_column:\n",
    "        columns.append(f\"avatar_{avatar}{column}\") \n",
    "for i in range(1, 5):\n",
    "    columns.append(f\"card_setName{i}\")\n",
    "    columns.append(f\"card_setPoint{i}\")\n",
    "for i in range(1, 3):\n",
    "    columns.append(f\"engraving_grantName{i}\")\n",
    "    columns.append(f\"engraving_grantPoint{i}\")\n",
    "for i in range(1, 12):\n",
    "    columns.append(f\"engraving{i}_name\")\n",
    "    columns.append(f\"engraving{i}_level\")\n",
    "for equipment in equipments:\n",
    "    for column in equipment_column:\n",
    "        columns.append(f\"equipment_{equipment}{column}\")\n",
    "for i in range(1, 12):\n",
    "    for column in gem_column:\n",
    "        columns.append(f\"gem{i}{column}\")\n",
    "for i in range(1, 17):\n",
    "    for j in range(1, 4):\n",
    "        columns.append(f\"skill{i}_tripod{j}_point\")\n",
    "for column in stat_column:\n",
    "    columns.append(f\"{column}_값\")\n",
    "\n",
    "df.columns = columns"
   ]
  },
  {
   "cell_type": "code",
   "execution_count": 95,
   "id": "58e1e8cb",
   "metadata": {},
   "outputs": [
    {
     "data": {
      "text/plain": [
       "['engraving_label.pkl']"
      ]
     },
     "execution_count": 95,
     "metadata": {},
     "output_type": "execute_result"
    }
   ],
   "source": [
    "# 라벨 인코딩\n",
    "from sklearn.preprocessing import LabelEncoder\n",
    "grade_le = LabelEncoder()\n",
    "uniqueGrade = ['고급', '전설', '영웅', '희귀', '유물', '고대', '에스더', 'None']\n",
    "grade_le_fit = grade_le.fit(uniqueGrade)\n",
    "\n",
    "uniqueCardSet = []\n",
    "for i in range(1, 5):\n",
    "    uniqueCardSet = list(set(uniqueCardSet + list(df[f\"card_setName{i}\"].fillna('None').unique())))\n",
    "cardSet_le = LabelEncoder()\n",
    "cardSet_le_fit = cardSet_le.fit(uniqueCardSet)\n",
    "\n",
    "uniqueEngraving = []\n",
    "for i in range(1, 3):\n",
    "    uniqueEngraving = list(set(uniqueEngraving + list(df[f\"engraving_grantName{i}\"].fillna('None').unique())))\n",
    "for i in range(1, 12):\n",
    "    uniqueEngraving = list(set(uniqueEngraving + list(df[f\"engraving{i}_name\"].fillna('None').unique())))\n",
    "engraving_le = LabelEncoder()\n",
    "engraving_le_fit = engraving_le.fit(uniqueEngraving)\n",
    "\n",
    "joblib.dump(grade_le_fit, 'grade_label.pkl')\n",
    "joblib.dump(cardSet_le_fit, 'card_label.pkl')\n",
    "joblib.dump(engraving_le_fit, 'engraving_label.pkl')"
   ]
  },
  {
   "cell_type": "code",
   "execution_count": 96,
   "id": "296fdd96",
   "metadata": {},
   "outputs": [],
   "source": [
    "# 결측치 처리, 라벨 인코딩, 데이터타입 수정\n",
    "df['itemMaxLevel'] = df['itemMaxLevel'].astype('float64')\n",
    "for accessory in accessories:\n",
    "    df[f'{accessory}_quality'] = df[f'{accessory}_quality'].fillna(-1).astype('int64')\n",
    "    df[f'{accessory}_grade'] = grade_le_fit.transform(df[f'{accessory}_grade'].fillna('None'))\n",
    "    df[f'{accessory}_tier'] = df[f'{accessory}_tier'].fillna(-1).astype('int64')\n",
    "for avatar in avatars :\n",
    "    df[f\"avatar_{avatar}_grade\"] =  grade_le_fit.transform(df[f\"avatar_{avatar}_grade\"].fillna('None'))\n",
    "for i in range(1, 5):\n",
    "    df[f\"card_setName{i}\"] = cardSet_le_fit.transform(df[f\"card_setName{i}\"].fillna('None'))\n",
    "    df[f\"card_setPoint{i}\"] = df[f\"card_setPoint{i}\"].fillna(-1).astype('int64')\n",
    "for i in range(1, 3):\n",
    "    df[f\"engraving_grantName{i}\"] = engraving_le_fit.transform(df[f\"engraving_grantName{i}\"].fillna('None'))\n",
    "    df[f\"engraving_grantPoint{i}\"] = df[f\"engraving_grantPoint{i}\"].fillna('-1').astype('int64')\n",
    "for i in range(1, 12):\n",
    "    df[f\"engraving{i}_name\"] = engraving_le_fit.transform(df[f\"engraving{i}_name\"].fillna('None'))\n",
    "    df[f\"engraving{i}_level\"] = df[f\"engraving{i}_level\"].fillna(-1).astype('int64')\n",
    "for equipment in equipments:\n",
    "    df[f\"equipment_{equipment}_grade\"] = grade_le_fit.transform(df[f\"equipment_{equipment}_grade\"].fillna('None'))  \n",
    "    df[f\"equipment_{equipment}_setLevel\"] = df[f\"equipment_{equipment}_setLevel\"].fillna(-1).astype('int64')\n",
    "    df[f\"equipment_{equipment}_quality\"] = df[f\"equipment_{equipment}_quality\"].fillna(-1).astype('int64')\n",
    "for i in range(1, 12):\n",
    "    df[f\"gem{i}_grade\"] = grade_le_fit.transform(df[f\"gem{i}_grade\"].fillna('None'))\n",
    "    df[f\"gem{i}_level\"] = df[f\"gem{i}_level\"].fillna(-1).astype('int64')\n",
    "    df[f\"gem{i}_tier\"] = df[f\"gem{i}_tier\"].fillna(-1).astype('int64')\n",
    "for i in range(1, 17):\n",
    "    for j in range(1, 4):\n",
    "        df[f\"skill{i}_tripod{j}_point\"] = df[f\"skill{i}_tripod{j}_point\"].fillna(-1).astype('int64')"
   ]
  },
  {
   "cell_type": "code",
   "execution_count": 98,
   "id": "97c65a68",
   "metadata": {},
   "outputs": [
    {
     "data": {
      "text/plain": [
       "['rf.pkl']"
      ]
     },
     "execution_count": 98,
     "metadata": {},
     "output_type": "execute_result"
    }
   ],
   "source": [
    "from sklearn.ensemble import RandomForestRegressor\n",
    "from sklearn.model_selection import train_test_split\n",
    "from sklearn.metrics import mean_squared_error, mean_absolute_error, r2_score\n",
    "x = df.drop(columns=['itemMaxLevel'])\n",
    "y = df['itemMaxLevel'].astype('float64')\n",
    "\n",
    "xtr, xt, ytr, yt = train_test_split(x, y, train_size=0.7, random_state=42)\n",
    "\n",
    "# 학습에 시간이 오래 걸림\n",
    "rf = RandomForestRegressor(random_state=23)\n",
    "rf.fit(xtr, ytr)\n",
    "\n",
    "joblib.dump(rf, 'rf.pkl')"
   ]
  },
  {
   "cell_type": "code",
   "execution_count": 4,
   "id": "b178cda4",
   "metadata": {},
   "outputs": [
    {
     "data": {
      "text/html": [
       "<style>#sk-container-id-1 {color: black;background-color: white;}#sk-container-id-1 pre{padding: 0;}#sk-container-id-1 div.sk-toggleable {background-color: white;}#sk-container-id-1 label.sk-toggleable__label {cursor: pointer;display: block;width: 100%;margin-bottom: 0;padding: 0.3em;box-sizing: border-box;text-align: center;}#sk-container-id-1 label.sk-toggleable__label-arrow:before {content: \"▸\";float: left;margin-right: 0.25em;color: #696969;}#sk-container-id-1 label.sk-toggleable__label-arrow:hover:before {color: black;}#sk-container-id-1 div.sk-estimator:hover label.sk-toggleable__label-arrow:before {color: black;}#sk-container-id-1 div.sk-toggleable__content {max-height: 0;max-width: 0;overflow: hidden;text-align: left;background-color: #f0f8ff;}#sk-container-id-1 div.sk-toggleable__content pre {margin: 0.2em;color: black;border-radius: 0.25em;background-color: #f0f8ff;}#sk-container-id-1 input.sk-toggleable__control:checked~div.sk-toggleable__content {max-height: 200px;max-width: 100%;overflow: auto;}#sk-container-id-1 input.sk-toggleable__control:checked~label.sk-toggleable__label-arrow:before {content: \"▾\";}#sk-container-id-1 div.sk-estimator input.sk-toggleable__control:checked~label.sk-toggleable__label {background-color: #d4ebff;}#sk-container-id-1 div.sk-label input.sk-toggleable__control:checked~label.sk-toggleable__label {background-color: #d4ebff;}#sk-container-id-1 input.sk-hidden--visually {border: 0;clip: rect(1px 1px 1px 1px);clip: rect(1px, 1px, 1px, 1px);height: 1px;margin: -1px;overflow: hidden;padding: 0;position: absolute;width: 1px;}#sk-container-id-1 div.sk-estimator {font-family: monospace;background-color: #f0f8ff;border: 1px dotted black;border-radius: 0.25em;box-sizing: border-box;margin-bottom: 0.5em;}#sk-container-id-1 div.sk-estimator:hover {background-color: #d4ebff;}#sk-container-id-1 div.sk-parallel-item::after {content: \"\";width: 100%;border-bottom: 1px solid gray;flex-grow: 1;}#sk-container-id-1 div.sk-label:hover label.sk-toggleable__label {background-color: #d4ebff;}#sk-container-id-1 div.sk-serial::before {content: \"\";position: absolute;border-left: 1px solid gray;box-sizing: border-box;top: 0;bottom: 0;left: 50%;z-index: 0;}#sk-container-id-1 div.sk-serial {display: flex;flex-direction: column;align-items: center;background-color: white;padding-right: 0.2em;padding-left: 0.2em;position: relative;}#sk-container-id-1 div.sk-item {position: relative;z-index: 1;}#sk-container-id-1 div.sk-parallel {display: flex;align-items: stretch;justify-content: center;background-color: white;position: relative;}#sk-container-id-1 div.sk-item::before, #sk-container-id-1 div.sk-parallel-item::before {content: \"\";position: absolute;border-left: 1px solid gray;box-sizing: border-box;top: 0;bottom: 0;left: 50%;z-index: -1;}#sk-container-id-1 div.sk-parallel-item {display: flex;flex-direction: column;z-index: 1;position: relative;background-color: white;}#sk-container-id-1 div.sk-parallel-item:first-child::after {align-self: flex-end;width: 50%;}#sk-container-id-1 div.sk-parallel-item:last-child::after {align-self: flex-start;width: 50%;}#sk-container-id-1 div.sk-parallel-item:only-child::after {width: 0;}#sk-container-id-1 div.sk-dashed-wrapped {border: 1px dashed gray;margin: 0 0.4em 0.5em 0.4em;box-sizing: border-box;padding-bottom: 0.4em;background-color: white;}#sk-container-id-1 div.sk-label label {font-family: monospace;font-weight: bold;display: inline-block;line-height: 1.2em;}#sk-container-id-1 div.sk-label-container {text-align: center;}#sk-container-id-1 div.sk-container {/* jupyter's `normalize.less` sets `[hidden] { display: none; }` but bootstrap.min.css set `[hidden] { display: none !important; }` so we also need the `!important` here to be able to override the default hidden behavior on the sphinx rendered scikit-learn.org. See: https://github.com/scikit-learn/scikit-learn/issues/21755 */display: inline-block !important;position: relative;}#sk-container-id-1 div.sk-text-repr-fallback {display: none;}</style><div id=\"sk-container-id-1\" class=\"sk-top-container\"><div class=\"sk-text-repr-fallback\"><pre>RandomForestRegressor(random_state=23)</pre><b>In a Jupyter environment, please rerun this cell to show the HTML representation or trust the notebook. <br />On GitHub, the HTML representation is unable to render, please try loading this page with nbviewer.org.</b></div><div class=\"sk-container\" hidden><div class=\"sk-item\"><div class=\"sk-estimator sk-toggleable\"><input class=\"sk-toggleable__control sk-hidden--visually\" id=\"sk-estimator-id-1\" type=\"checkbox\" checked><label for=\"sk-estimator-id-1\" class=\"sk-toggleable__label sk-toggleable__label-arrow\">RandomForestRegressor</label><div class=\"sk-toggleable__content\"><pre>RandomForestRegressor(random_state=23)</pre></div></div></div></div></div>"
      ],
      "text/plain": [
       "RandomForestRegressor(random_state=23)"
      ]
     },
     "execution_count": 4,
     "metadata": {},
     "output_type": "execute_result"
    }
   ],
   "source": [
    "import joblib\n",
    "rf = joblib.load('rf.pkl')\n",
    "rf"
   ]
  },
  {
   "cell_type": "code",
   "execution_count": 100,
   "id": "cd0fa811",
   "metadata": {},
   "outputs": [
    {
     "name": "stdout",
     "output_type": "stream",
     "text": [
      "29.913518368540995\n",
      "3.8218512612083133\n",
      "0.9940426793901301\n"
     ]
    }
   ],
   "source": [
    "predict_train = rf.predict(xtr)\n",
    "print(mean_squared_error(ytr, predict_train))\n",
    "print(mean_absolute_error(ytr, predict_train))\n",
    "print(r2_score(ytr, predict_train))"
   ]
  },
  {
   "cell_type": "code",
   "execution_count": 101,
   "id": "c21cad5c",
   "metadata": {},
   "outputs": [
    {
     "name": "stdout",
     "output_type": "stream",
     "text": [
      "223.13449619783367\n",
      "10.355414365334115\n",
      "0.9554565982460977\n"
     ]
    }
   ],
   "source": [
    "predict_test = rf.predict(xt)\n",
    "print(mean_squared_error(yt, predict_test))\n",
    "print(mean_absolute_error(yt, predict_test))\n",
    "print(r2_score(yt, predict_test))"
   ]
  },
  {
   "cell_type": "code",
   "execution_count": 1,
   "id": "de4d46e4",
   "metadata": {},
   "outputs": [],
   "source": [
    "import lostark as lok\n",
    "profile_responses = lok.get_total_profile_responses('roxy0')\n",
    "if profile_responses != None:\n",
    "    lok.insert_character_data('roxy0')"
   ]
  },
  {
   "cell_type": "code",
   "execution_count": 2,
   "id": "88efe5ef",
   "metadata": {},
   "outputs": [
    {
     "data": {
      "text/html": [
       "<div>\n",
       "<style scoped>\n",
       "    .dataframe tbody tr th:only-of-type {\n",
       "        vertical-align: middle;\n",
       "    }\n",
       "\n",
       "    .dataframe tbody tr th {\n",
       "        vertical-align: top;\n",
       "    }\n",
       "\n",
       "    .dataframe thead th {\n",
       "        text-align: right;\n",
       "    }\n",
       "</style>\n",
       "<table border=\"1\" class=\"dataframe\">\n",
       "  <thead>\n",
       "    <tr style=\"text-align: right;\">\n",
       "      <th></th>\n",
       "      <th>characterCode</th>\n",
       "      <th>characterName</th>\n",
       "      <th>ArmoryProfile</th>\n",
       "      <th>ArmoryEquipment</th>\n",
       "      <th>ArmoryAvatars</th>\n",
       "      <th>ArmorySkills</th>\n",
       "      <th>ArmoryEngraving</th>\n",
       "      <th>ArmoryCard</th>\n",
       "      <th>ArmoryGem</th>\n",
       "      <th>ColosseumInfo</th>\n",
       "      <th>Collectibles</th>\n",
       "    </tr>\n",
       "  </thead>\n",
       "  <tbody>\n",
       "    <tr>\n",
       "      <th>0</th>\n",
       "      <td>570279</td>\n",
       "      <td>Roxy0</td>\n",
       "      <td>{'CharacterImage': 'https://img.lostark.co.kr/...</td>\n",
       "      <td>[{'Type': '무기', 'Name': '+17 굳건한 지배의 균형 롱 스태프'...</td>\n",
       "      <td>[{'Type': '무기 아바타', 'Name': '고결한 귀공녀 롱 스태프', '...</td>\n",
       "      <td>[{'Name': '블레이즈', 'Icon': 'https://cdn-lostark...</td>\n",
       "      <td>{'Engravings': [{'Slot': 0, 'Name': '점화', 'Ico...</td>\n",
       "      <td>{'Cards': [{'Slot': 0, 'Name': '원포', 'Icon': '...</td>\n",
       "      <td>{'Gems': [{'Slot': 0, 'Name': '7레벨 멸화의 보석', 'I...</td>\n",
       "      <td>{'Rank': 0, 'PreRank': 0, 'Exp': 0, 'Colosseum...</td>\n",
       "      <td>[{'Type': '모코코 씨앗', 'Icon': 'https://cdn-losta...</td>\n",
       "    </tr>\n",
       "  </tbody>\n",
       "</table>\n",
       "</div>"
      ],
      "text/plain": [
       "   characterCode characterName  \\\n",
       "0         570279         Roxy0   \n",
       "\n",
       "                                       ArmoryProfile  \\\n",
       "0  {'CharacterImage': 'https://img.lostark.co.kr/...   \n",
       "\n",
       "                                     ArmoryEquipment  \\\n",
       "0  [{'Type': '무기', 'Name': '+17 굳건한 지배의 균형 롱 스태프'...   \n",
       "\n",
       "                                       ArmoryAvatars  \\\n",
       "0  [{'Type': '무기 아바타', 'Name': '고결한 귀공녀 롱 스태프', '...   \n",
       "\n",
       "                                        ArmorySkills  \\\n",
       "0  [{'Name': '블레이즈', 'Icon': 'https://cdn-lostark...   \n",
       "\n",
       "                                     ArmoryEngraving  \\\n",
       "0  {'Engravings': [{'Slot': 0, 'Name': '점화', 'Ico...   \n",
       "\n",
       "                                          ArmoryCard  \\\n",
       "0  {'Cards': [{'Slot': 0, 'Name': '원포', 'Icon': '...   \n",
       "\n",
       "                                           ArmoryGem  \\\n",
       "0  {'Gems': [{'Slot': 0, 'Name': '7레벨 멸화의 보석', 'I...   \n",
       "\n",
       "                                       ColosseumInfo  \\\n",
       "0  {'Rank': 0, 'PreRank': 0, 'Exp': 0, 'Colosseum...   \n",
       "\n",
       "                                        Collectibles  \n",
       "0  [{'Type': '모코코 씨앗', 'Icon': 'https://cdn-losta...  "
      ]
     },
     "execution_count": 2,
     "metadata": {},
     "output_type": "execute_result"
    }
   ],
   "source": [
    "lok.get_df_all_raw_table('roxy0')"
   ]
  },
  {
   "cell_type": "code",
   "execution_count": 2,
   "id": "fe27105c",
   "metadata": {},
   "outputs": [
    {
     "data": {
      "text/html": [
       "<div>\n",
       "<style scoped>\n",
       "    .dataframe tbody tr th:only-of-type {\n",
       "        vertical-align: middle;\n",
       "    }\n",
       "\n",
       "    .dataframe tbody tr th {\n",
       "        vertical-align: top;\n",
       "    }\n",
       "\n",
       "    .dataframe thead th {\n",
       "        text-align: right;\n",
       "    }\n",
       "</style>\n",
       "<table border=\"1\" class=\"dataframe\">\n",
       "  <thead>\n",
       "    <tr style=\"text-align: right;\">\n",
       "      <th></th>\n",
       "      <th>characterCode</th>\n",
       "      <th>expeditionLevel</th>\n",
       "      <th>pvpGradeName</th>\n",
       "      <th>townLevel</th>\n",
       "      <th>title</th>\n",
       "      <th>guildMemberGrade</th>\n",
       "      <th>guildName</th>\n",
       "      <th>usingSkillPoint</th>\n",
       "      <th>totalSkillPoint</th>\n",
       "      <th>지성</th>\n",
       "      <th>담력</th>\n",
       "      <th>매력</th>\n",
       "      <th>친절</th>\n",
       "      <th>serverName</th>\n",
       "      <th>characterName</th>\n",
       "      <th>characterLevel</th>\n",
       "      <th>characterClassName</th>\n",
       "      <th>itemAvgLevel</th>\n",
       "      <th>itemMaxLevel</th>\n",
       "    </tr>\n",
       "  </thead>\n",
       "  <tbody>\n",
       "    <tr>\n",
       "      <th>0</th>\n",
       "      <td>570283</td>\n",
       "      <td>240</td>\n",
       "      <td>19급</td>\n",
       "      <td>70</td>\n",
       "      <td>거친</td>\n",
       "      <td>임원</td>\n",
       "      <td>Rudius</td>\n",
       "      <td>414</td>\n",
       "      <td>414</td>\n",
       "      <td>606</td>\n",
       "      <td>619</td>\n",
       "      <td>547</td>\n",
       "      <td>524</td>\n",
       "      <td>아브렐슈드</td>\n",
       "      <td>Eris0</td>\n",
       "      <td>60</td>\n",
       "      <td>블레이드</td>\n",
       "      <td>1551.67</td>\n",
       "      <td>1551.67</td>\n",
       "    </tr>\n",
       "  </tbody>\n",
       "</table>\n",
       "</div>"
      ],
      "text/plain": [
       "   characterCode  expeditionLevel pvpGradeName  townLevel title  \\\n",
       "0         570283              240          19급         70    거친   \n",
       "\n",
       "  guildMemberGrade guildName  usingSkillPoint  totalSkillPoint   지성   담력   매력  \\\n",
       "0               임원    Rudius              414              414  606  619  547   \n",
       "\n",
       "    친절 serverName characterName  characterLevel characterClassName  \\\n",
       "0  524      아브렐슈드         Eris0              60               블레이드   \n",
       "\n",
       "  itemAvgLevel itemMaxLevel  \n",
       "0      1551.67      1551.67  "
      ]
     },
     "execution_count": 2,
     "metadata": {},
     "output_type": "execute_result"
    }
   ],
   "source": [
    "lok.get_table_df('profile_table', 'Eris0')"
   ]
  },
  {
   "cell_type": "code",
   "execution_count": 5,
   "id": "b1a4ba83",
   "metadata": {},
   "outputs": [
    {
     "data": {
      "text/plain": [
       "array([1535.6002])"
      ]
     },
     "execution_count": 5,
     "metadata": {},
     "output_type": "execute_result"
    }
   ],
   "source": [
    "cdf = lok.get_predict_df('Eris0')\n",
    "x = cdf.drop(columns=['itemMaxLevel'])\n",
    "y = cdf['itemMaxLevel'].astype('float64')\n",
    "predict_data = rf.predict(x)\n",
    "predict_data"
   ]
  }
 ],
 "metadata": {
  "kernelspec": {
   "display_name": "Python 3 (ipykernel)",
   "language": "python",
   "name": "python3"
  },
  "language_info": {
   "codemirror_mode": {
    "name": "ipython",
    "version": 3
   },
   "file_extension": ".py",
   "mimetype": "text/x-python",
   "name": "python",
   "nbconvert_exporter": "python",
   "pygments_lexer": "ipython3",
   "version": "3.10.9"
  }
 },
 "nbformat": 4,
 "nbformat_minor": 5
}
