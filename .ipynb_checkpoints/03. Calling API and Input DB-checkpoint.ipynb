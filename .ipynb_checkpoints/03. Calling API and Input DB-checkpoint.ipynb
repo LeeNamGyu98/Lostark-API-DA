{
 "cells": [
  {
   "cell_type": "markdown",
   "metadata": {
    "id": "ekhK568Q9YlX"
   },
   "source": [
    "# 0. 코드 준비"
   ]
  },
  {
   "cell_type": "code",
   "execution_count": 1,
   "metadata": {
    "id": "lG6T5P2WtfSL"
   },
   "outputs": [],
   "source": [
    "import lostark as lok\n",
    "\n",
    "import pandas as pd\n",
    "import requests\n",
    "from urllib.request import urlopen\n",
    "import urllib\n",
    "import re\n",
    "from bs4 import BeautifulSoup\n",
    "import ast # literal_eval을 위해\n",
    "import json\n",
    "from pprint import pprint\n",
    "import time\n",
    "import datetime\n",
    "\n",
    "# 경고문 제거\n",
    "import urllib3\n",
    "urllib3.disable_warnings(urllib3.exceptions.InsecureRequestWarning)\n",
    "\n",
    "# #보안에러\n",
    "# !pip install certifi\n",
    "# import ssl\n",
    "# ssl._create_default_https_context = ssl._create_unverified_context"
   ]
  },
  {
   "cell_type": "code",
   "execution_count": 2,
   "metadata": {},
   "outputs": [],
   "source": [
    "# !pip install pymysql\n",
    "# !pip install ipython-sql\n",
    "# !pip install mysqlclient"
   ]
  },
  {
   "cell_type": "code",
   "execution_count": 2,
   "metadata": {
    "scrolled": true
   },
   "outputs": [],
   "source": [
    "### DataBase ###\n",
    "%reload_ext sql\n",
    "db, cursor = lok.get_db_cursor()"
   ]
  },
  {
   "cell_type": "markdown",
   "metadata": {
    "id": "CikMjd2J6MJ6"
   },
   "source": [
    "# 1. Character"
   ]
  },
  {
   "cell_type": "markdown",
   "metadata": {
    "id": "4a77gYf52X3y"
   },
   "source": [
    "Parameters : characterName\n",
    "\n",
    "Responses : \n",
    "\n",
    "    Severname\n",
    "    Character Name\n",
    "    Character Level\n",
    "    Character Class Name\n",
    "    Item Avg Level\n",
    "    Item Max Level\n"
   ]
  },
  {
   "cell_type": "code",
   "execution_count": 9,
   "metadata": {
    "collapsed": true
   },
   "outputs": [
    {
     "name": "stdout",
     "output_type": "stream",
     "text": [
      "get resp error\n"
     ]
    },
    {
     "ename": "IndexError",
     "evalue": "list index out of range",
     "output_type": "error",
     "traceback": [
      "\u001b[1;31m---------------------------------------------------------------------------\u001b[0m",
      "\u001b[1;31mIndexError\u001b[0m                                Traceback (most recent call last)",
      "Cell \u001b[1;32mIn[9], line 19\u001b[0m\n\u001b[0;32m     18\u001b[0m \u001b[38;5;28;01mtry\u001b[39;00m:\n\u001b[1;32m---> 19\u001b[0m     url \u001b[38;5;241m=\u001b[39m \u001b[38;5;124m'\u001b[39m\u001b[38;5;124mhttps://developer-lostark.game.onstove.com/characters/\u001b[39m\u001b[38;5;132;01m{}\u001b[39;00m\u001b[38;5;124m/siblings\u001b[39m\u001b[38;5;124m'\u001b[39m\u001b[38;5;241m.\u001b[39mformat(\u001b[43mpre_characterName_list\u001b[49m\u001b[43m[\u001b[49m\u001b[43mi\u001b[49m\u001b[43m]\u001b[49m) \n\u001b[0;32m     20\u001b[0m     \u001b[38;5;66;03m# request character data, 갑자기 인증 에러로 verify = False로 지정\u001b[39;00m\n",
      "\u001b[1;31mIndexError\u001b[0m: list index out of range",
      "\nDuring handling of the above exception, another exception occurred:\n",
      "\u001b[1;31mIndexError\u001b[0m                                Traceback (most recent call last)",
      "Cell \u001b[1;32mIn[9], line 25\u001b[0m\n\u001b[0;32m     23\u001b[0m \u001b[38;5;28;01mexcept\u001b[39;00m \u001b[38;5;167;01mException\u001b[39;00m \u001b[38;5;28;01mas\u001b[39;00m e:\n\u001b[0;32m     24\u001b[0m     \u001b[38;5;28mprint\u001b[39m(\u001b[38;5;124m\"\u001b[39m\u001b[38;5;124mget resp error\u001b[39m\u001b[38;5;124m\"\u001b[39m)\n\u001b[1;32m---> 25\u001b[0m     \u001b[38;5;28mprint\u001b[39m(\u001b[38;5;124mf\u001b[39m\u001b[38;5;124m\"\u001b[39m\u001b[38;5;124mcharacterName: \u001b[39m\u001b[38;5;132;01m{\u001b[39;00mpre_characterName_list[i]\u001b[38;5;132;01m}\u001b[39;00m\u001b[38;5;124m[\u001b[39m\u001b[38;5;124m\"\u001b[39m, \u001b[38;5;124mf\u001b[39m\u001b[38;5;124m\"\u001b[39m\u001b[38;5;124mError: \u001b[39m\u001b[38;5;132;01m{\u001b[39;00me\u001b[38;5;132;01m}\u001b[39;00m\u001b[38;5;124m]\u001b[39m\u001b[38;5;124m\"\u001b[39m)\n\u001b[0;32m     26\u001b[0m     \u001b[38;5;28;01mwith\u001b[39;00m \u001b[38;5;28mopen\u001b[39m(\u001b[38;5;124m\"\u001b[39m\u001b[38;5;124m./character/error_characterName_list.txt\u001b[39m\u001b[38;5;124m\"\u001b[39m, \u001b[38;5;124m\"\u001b[39m\u001b[38;5;124ma\u001b[39m\u001b[38;5;124m\"\u001b[39m, encoding\u001b[38;5;241m=\u001b[39m\u001b[38;5;124m\"\u001b[39m\u001b[38;5;124mutf-8\u001b[39m\u001b[38;5;124m\"\u001b[39m) \u001b[38;5;28;01mas\u001b[39;00m f:\n\u001b[0;32m     27\u001b[0m         f\u001b[38;5;241m.\u001b[39mwrite(\u001b[38;5;28mstr\u001b[39m(pre_characterName_list[i]) \u001b[38;5;241m+\u001b[39m \u001b[38;5;124mf\u001b[39m\u001b[38;5;124m\"\u001b[39m\u001b[38;5;124m: \u001b[39m\u001b[38;5;132;01m{\u001b[39;00me\u001b[38;5;132;01m}\u001b[39;00m\u001b[38;5;130;01m\\n\u001b[39;00m\u001b[38;5;124m\"\u001b[39m)\n",
      "\u001b[1;31mIndexError\u001b[0m: list index out of range"
     ]
    }
   ],
   "source": [
    "# read charaterName_list.txt\n",
    "with open(\"./character/pre_characterName_list.txt\", \"r\", encoding=\"utf-8\") as f:\n",
    "    file_contents = f.read()\n",
    "    pre_characterName_list = eval(file_contents)\n",
    "try:\n",
    "    with open(\"./character/characterName_list.txt\", \"r\", encoding=\"utf-8\") as f:\n",
    "        file_contents = f.read()\n",
    "        characterName_list = eval(file_contents)\n",
    "except:\n",
    "    characterName_list = []\n",
    "\n",
    "cnt = 0\n",
    "pcl_len = len(pre_characterName_list)\n",
    "\n",
    "# Collect subcharacter names\n",
    "for i in range(pcl_len):\n",
    "    # Calling api\n",
    "    try:\n",
    "        character_responses = lok.get_character_responses(pre_characterName_list[i])\n",
    "    except Exception as e:\n",
    "        print(\"get resp error\")\n",
    "        print(f\"characterName: {pre_characterName_list[i]}[Error: {e}]\")\n",
    "        with open(\"./character/error_characterName_list.txt\", \"a\", encoding=\"utf-8\") as f:\n",
    "            f.write(str(pre_characterName_list[i]) + f\": {e}\\n\")\n",
    "        continue\n",
    "        \n",
    "    # remove None data\n",
    "    if character_responses == None\n",
    "        with open(\"./character/removed_characterName_list.txt\", \"a\", encoding=\"utf-8\") as f:\n",
    "            f.write(str(pre_characterName_list[i]) + \": character_responses is None\\n\")\n",
    "        pre_characterName_list.remove(pre_characterName_list[i])\n",
    "        with open(\"./character/pre_characterName_list.txt\", \"w\", encoding=\"utf-8\") as f:\n",
    "            f.write(str(pre_characterName_list))   \n",
    "        continue\n",
    "        \n",
    "    try:\n",
    "        for c in character_responses:\n",
    "            if (c['CharacterName'] not in characterName_list):\n",
    "                characterName_list.append(c['CharacterName'])\n",
    "    except Exception as e:\n",
    "        print(\"characterName append error\")\n",
    "        print(f\"characterName: {pre_characterName_list[i]}[\", f\"Error: {e}]\")\n",
    "        break\n",
    "        \n",
    "    if i % 2000 == 0:\n",
    "        print(c['CharacterName'],\": \", i)\n",
    "        print(\"Current time:\", datetime.datetime.now())\n",
    "        # 중간중간 저장\n",
    "        with open(\"./character/characterName_list.txt\", \"w\", encoding=\"utf-8\") as f:\n",
    "            f.write(str(characterName_list))"
   ]
  },
  {
   "cell_type": "code",
   "execution_count": 19,
   "metadata": {},
   "outputs": [],
   "source": [
    "characterName_list += pre_characterName_list\n",
    "characterName_list = list(set(characterName_list))\n",
    "with open(\"./character/characterName_list.txt\", \"w\", encoding=\"utf-8\") as f:\n",
    "    f.write(str(characterName_list))"
   ]
  },
  {
   "cell_type": "code",
   "execution_count": 20,
   "metadata": {},
   "outputs": [
    {
     "data": {
      "text/plain": [
       "582507"
      ]
     },
     "execution_count": 20,
     "metadata": {},
     "output_type": "execute_result"
    }
   ],
   "source": [
    "with open(\"./character/characterName_list.txt\", \"r\", encoding=\"utf-8\") as f:\n",
    "    file_contents = f.read()\n",
    "    characterName_list = eval(file_contents)\n",
    "len(characterName_list)"
   ]
  },
  {
   "cell_type": "markdown",
   "metadata": {},
   "source": [
    "# ARMORIES"
   ]
  },
  {
   "cell_type": "code",
   "execution_count": 95,
   "metadata": {
    "scrolled": true
   },
   "outputs": [],
   "source": [
    "for i in range(len(characterName_list)):\n",
    "    # 이미 입력된 값이면 다음 이름\n",
    "    result = lok.check_name_already_in(characterName_list[i], cursor)\n",
    "    if result[0] == 1: continue\n",
    "    \n",
    "    # calling API\n",
    "    try:\n",
    "        profile_responses = lok.get_total_profile_responses(characterName_list[i])\n",
    "        if profile_responses == None:\n",
    "            lok.remove_characterName(characterName_list, i, \"character response is None\")\n",
    "            continue   \n",
    "    except Exception as e:\n",
    "        print(\"Error:\", e)\n",
    "        print(\"CharacterName:\", characterName_list[i])\n",
    "        lok.remove_characterName(characterName_list, i, e)\n",
    "        continue\n",
    "        \n",
    "    try:\n",
    "        values = lok.get_profile_values(profile_responses)\n",
    "        lok.insert_raw_character_data(values)\n",
    "        if i % 2000 == 0:\n",
    "            print(\"Record inserted successfully:\", i)\n",
    "            print(\"Current time:\", datetime.datetime.now())\n",
    "    except Exception as e:\n",
    "        lok.remove_characterName(characterName_list, i, e)\n",
    "        continue\n",
    "\n",
    "\n",
    "## Check data\n",
    "# sql = \"\"\"\n",
    "# SELECT * FROM lostark.raw_character_data_table;\n",
    "# \"\"\"\n",
    "# cursor.execute(sql)\n",
    "# result = cursor.fetchall()\n",
    "# pprint(result[:10])"
   ]
  },
  {
   "cell_type": "code",
   "execution_count": 69,
   "metadata": {},
   "outputs": [],
   "source": [
    "db.close()"
   ]
  }
 ],
 "metadata": {
  "colab": {
   "provenance": [],
   "toc_visible": true
  },
  "kernelspec": {
   "display_name": "Python 3 (ipykernel)",
   "language": "python",
   "name": "python3"
  },
  "language_info": {
   "codemirror_mode": {
    "name": "ipython",
    "version": 3
   },
   "file_extension": ".py",
   "mimetype": "text/x-python",
   "name": "python",
   "nbconvert_exporter": "python",
   "pygments_lexer": "ipython3",
   "version": "3.10.9"
  }
 },
 "nbformat": 4,
 "nbformat_minor": 1
}
