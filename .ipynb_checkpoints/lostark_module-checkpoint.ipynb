{
 "cells": [
  {
   "cell_type": "code",
   "execution_count": null,
   "id": "1f23f1a9",
   "metadata": {},
   "outputs": [],
   "source": [
    "#! eval은 보안에 위험한 코드이나 현 단계에서는 넘어감(문자로 된 것을 코드화 하는 함수)\n",
    "def eval_data(resp):\n",
    "    edata = resp.text\n",
    "    replace_text = [\"null\", \"false\", \"true\"]\n",
    "    if any(rt in edata for rt in replace_text):\n",
    "        edata = edata.replace(\"null\", \"None\")\n",
    "        edata = edata.replace(\"false\", \"False\")\n",
    "        edata = edata.replace(\"true\", \"True\")\n",
    "    edata = eval(edata)\n",
    "    return edata"
   ]
  }
 ],
 "metadata": {
  "kernelspec": {
   "display_name": "Python 3 (ipykernel)",
   "language": "python",
   "name": "python3"
  },
  "language_info": {
   "codemirror_mode": {
    "name": "ipython",
    "version": 3
   },
   "file_extension": ".py",
   "mimetype": "text/x-python",
   "name": "python",
   "nbconvert_exporter": "python",
   "pygments_lexer": "ipython3",
   "version": "3.10.9"
  }
 },
 "nbformat": 4,
 "nbformat_minor": 5
}
