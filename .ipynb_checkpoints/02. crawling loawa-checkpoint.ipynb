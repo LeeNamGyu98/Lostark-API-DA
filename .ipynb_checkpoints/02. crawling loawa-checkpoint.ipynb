{
 "cells": [
  {
   "cell_type": "markdown",
   "id": "6b2110bb",
   "metadata": {},
   "source": [
    "로아와 사이트에서 캐릭터 네임 크롤링(https://loawa.com/rank)\n",
    "\n",
    "5레벨 단위로 500개의 케릭터 네임을 수집"
   ]
  },
  {
   "cell_type": "code",
   "execution_count": null,
   "id": "1694e1f1",
   "metadata": {},
   "outputs": [],
   "source": [
    "!pip install selenium\n",
    "!pip install webdriver_manager"
   ]
  },
  {
   "cell_type": "code",
   "execution_count": 44,
   "id": "870e1367",
   "metadata": {
    "scrolled": true
   },
   "outputs": [
    {
     "name": "stdout",
     "output_type": "stream",
     "text": [
      "more button Error: Message: element click intercepted: Element is not clickable at point (690, 976)\n",
      "  (Session info: chrome=114.0.5735.199)\n",
      "Stacktrace:\n",
      "Backtrace:\n",
      "\tGetHandleVerifier [0x00B5A813+48355]\n",
      "\t(No symbol) [0x00AEC4B1]\n",
      "\t(No symbol) [0x009F5358]\n",
      "\t(No symbol) [0x00A25062]\n",
      "\t(No symbol) [0x00A23B98]\n",
      "\t(No symbol) [0x00A2239B]\n",
      "\t(No symbol) [0x00A2179E]\n",
      "\t(No symbol) [0x00A19F5C]\n",
      "\t(No symbol) [0x00A3A73C]\n",
      "\t(No symbol) [0x00A19A36]\n",
      "\t(No symbol) [0x00A3AA94]\n",
      "\t(No symbol) [0x00A4C922]\n",
      "\t(No symbol) [0x00A3A536]\n",
      "\t(No symbol) [0x00A182DC]\n",
      "\t(No symbol) [0x00A193DD]\n",
      "\tGetHandleVerifier [0x00DBAABD+2539405]\n",
      "\tGetHandleVerifier [0x00DFA78F+2800735]\n",
      "\tGetHandleVerifier [0x00DF456C+2775612]\n",
      "\tGetHandleVerifier [0x00BE51E0+616112]\n",
      "\t(No symbol) [0x00AF5F8C]\n",
      "\t(No symbol) [0x00AF2328]\n",
      "\t(No symbol) [0x00AF240B]\n",
      "\t(No symbol) [0x00AE4FF7]\n",
      "\tBaseThreadInitThunk [0x75B97D59+25]\n",
      "\tRtlInitializeExceptionChain [0x773FB74B+107]\n",
      "\tRtlClearBits [0x773FB6CF+191]\n",
      "\n",
      "current level 1575\n",
      "2023-07-10 17:43:36.760445\n"
     ]
    }
   ],
   "source": [
    "### Import ###\n",
    "from selenium import webdriver\n",
    "from webdriver_manager.chrome import ChromeDriverManager\n",
    "from selenium.webdriver.common.action_chains import ActionChains\n",
    "from selenium.webdriver.common.by import By\n",
    "from selenium.webdriver.support.ui import WebDriverWait\n",
    "from selenium.webdriver.support import expected_conditions as EC\n",
    "from selenium.webdriver.common.keys import Keys\n",
    "import datetime\n",
    "import time\n",
    "import re\n",
    "\n",
    "### Code ###\n",
    "# time for sleeping\n",
    "duration = 2\n",
    "\n",
    "#! Cloudflare로 인해 직접 클릭해줘야함\n",
    "driver = webdriver.Chrome()\n",
    "driver.get('https://loawa.com/rank')\n",
    "\n",
    "# waiting page\n",
    "wait = WebDriverWait(driver, 30)\n",
    "\n",
    "# get range\n",
    "range_input = wait.until(EC.presence_of_element_located((By.XPATH, \n",
    "            '//*[@id=\"contents\"]/article/div[4]/div[1]/form/div/div[8]/div/div[2]/div/input[1]')))\n",
    "time.sleep(duration)\n",
    "min_value = int(range_input.get_attribute('min'))\n",
    "max_value = int(range_input.get_attribute('max'))\n",
    "interval = 5\n",
    "\n",
    "# get characterNames\n",
    "for i in range(min_value, max_value, interval):\n",
    "    # move level\n",
    "    try:\n",
    "        max_text_box = driver.find_element(By.XPATH,\n",
    "            '//*[@id=\"contents\"]/article/div[4]/div[1]/form/div/div[8]/div/div[2]/div/input[1]')\n",
    "        min_text_box = driver.find_element(By.XPATH,\n",
    "            '//*[@id=\"contents\"]/article/div[4]/div[1]/form/div/div[8]/div/div[2]/div/input[3]')\n",
    "\n",
    "        driver.execute_script(\"arguments[0].scrollIntoView();\", max_text_box)\n",
    "        time.sleep(duration)\n",
    "\n",
    "        # input in text_box\n",
    "        max_text_box.send_keys(Keys.CONTROL + \"a\")\n",
    "        time.sleep(duration)\n",
    "        max_text_box.send_keys(Keys.DELETE)\n",
    "        time.sleep(duration)\n",
    "        max_text_box.send_keys(f'{i+interval}')\n",
    "        time.sleep(duration)\n",
    "\n",
    "        min_text_box.send_keys(Keys.CONTROL + \"a\")\n",
    "        time.sleep(duration)\n",
    "        min_text_box.send_keys(Keys.DELETE)\n",
    "        time.sleep(duration)\n",
    "        min_text_box.send_keys(f'{i}')\n",
    "        time.sleep(duration)\n",
    "        # press Enter\n",
    "        min_text_box.send_keys(Keys.ENTER)\n",
    "        time.sleep(duration)\n",
    "    except Exception as e:\n",
    "        # If the text box input fails\n",
    "        print(\"text box Error:\", e)\n",
    "        print(\"current level\", i)\n",
    "        print(datetime.datetime.now())\n",
    "        break\n",
    "    \n",
    "    # click more button\n",
    "    for _ in range(100):\n",
    "        #+ 100번 이전에 끝날 경우 break하는 기능\n",
    "        try:\n",
    "            more_button = wait.until(EC.presence_of_element_located((By.XPATH, \n",
    "                        '//*[@id=\"contents\"]/article/div[4]/div[3]/div/button')))\n",
    "            element = driver.find_element(By.XPATH, '//*[@id=\"contents\"]/article/div[4]/div[3]/div/button')\n",
    "            driver.execute_script(\"arguments[0].scrollIntoView();\", element)\n",
    "            time.sleep(duration)\n",
    "            more_button.click()\n",
    "            time.sleep(duration)\n",
    "        except Exception as e:\n",
    "            # If the button is not visible\n",
    "            print(\"more button Error:\", e)\n",
    "            print(\"current level\", i)\n",
    "            print(datetime.datetime.now())\n",
    "            break\n",
    "\n",
    "    # Find and save the text content of the desired elements.\n",
    "    elements = driver.find_elements(By.CSS_SELECTOR, \n",
    "            '#contents > article > div.row.rounded > table > tbody > tr > td > a')\n",
    "    characterNames = [element.text for element in elements \n",
    "                      if (element.text != \"확인\") and (element.text != '')]\n",
    "    with open(f'./character/loawa/loawa_{i}.txt', 'w', encoding='utf-8') as f:\n",
    "        f.write('\\n'.join(characterNames))\n",
    "\n",
    "driver.quit()"
   ]
  },
  {
   "cell_type": "code",
   "execution_count": 21,
   "id": "3ddb116a",
   "metadata": {},
   "outputs": [],
   "source": [
    "with open(\"./character/pre_characterName_list.txt\", \"r\", encoding=\"utf-8\") as f:\n",
    "    file_contents = f.read()\n",
    "    characterName_list = eval(file_contents)"
   ]
  },
  {
   "cell_type": "code",
   "execution_count": 22,
   "id": "e15b3bb6",
   "metadata": {},
   "outputs": [],
   "source": [
    "# import re\n",
    "# min_value=1540\n",
    "# max_value=1655\n",
    "# interval=5\n",
    "\n",
    "characterNames = []\n",
    "for i in range(min_value, max_value+1, interval):\n",
    "    with open(f'./character/loawa/loawa_{i}.txt', 'r', encoding='utf-8') as f:\n",
    "        for character_name in f:\n",
    "            if re.sub(\"\\n\", \"\", character_name) not in characterNames:\n",
    "                characterNames.append(re.sub(\"\\n\", \"\", character_name))"
   ]
  },
  {
   "cell_type": "code",
   "execution_count": 23,
   "id": "028a655b",
   "metadata": {},
   "outputs": [
    {
     "data": {
      "text/plain": [
       "58687"
      ]
     },
     "execution_count": 23,
     "metadata": {},
     "output_type": "execute_result"
    }
   ],
   "source": [
    "characterName_list += characterNames\n",
    "characterName_list = list(set(characterName_list))\n",
    "with open(\"./character/pre_characterName_list.txt\", \"w\", encoding=\"utf-8\") as f:\n",
    "    f.write(str(characterName_list))\n",
    "len(characterName_list)"
   ]
  },
  {
   "cell_type": "code",
   "execution_count": null,
   "id": "520d5e67",
   "metadata": {},
   "outputs": [],
   "source": []
  }
 ],
 "metadata": {
  "kernelspec": {
   "display_name": "Python 3 (ipykernel)",
   "language": "python",
   "name": "python3"
  },
  "language_info": {
   "codemirror_mode": {
    "name": "ipython",
    "version": 3
   },
   "file_extension": ".py",
   "mimetype": "text/x-python",
   "name": "python",
   "nbconvert_exporter": "python",
   "pygments_lexer": "ipython3",
   "version": "3.10.9"
  }
 },
 "nbformat": 4,
 "nbformat_minor": 5
}
