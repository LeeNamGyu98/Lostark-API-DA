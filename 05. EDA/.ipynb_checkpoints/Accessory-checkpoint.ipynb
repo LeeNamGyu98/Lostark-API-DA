{
 "cells": [
  {
   "cell_type": "code",
   "execution_count": 1,
   "metadata": {},
   "outputs": [],
   "source": [
    "import pandas as pd\n",
    "from pprint import pprint"
   ]
  },
  {
   "cell_type": "code",
   "execution_count": 2,
   "metadata": {},
   "outputs": [
    {
     "data": {
      "text/plain": [
       "0"
      ]
     },
     "execution_count": 2,
     "metadata": {},
     "output_type": "execute_result"
    }
   ],
   "source": [
    "### DataBase ###\n",
    "import pymysql\n",
    "import json\n",
    "%reload_ext sql\n",
    "\n",
    "# JSON 파일 열기\n",
    "with open('../key.json', 'r') as file:\n",
    "    key = json.load(file)\n",
    "\n",
    "# Connect to MySQL database\n",
    "db = pymysql.connect(host = 'localhost', \n",
    "                     port = 3306, \n",
    "                     user='root', \n",
    "                     passwd = key['password'],\n",
    "                     charset='utf8')\n",
    "\n",
    "# Create a cursor object\n",
    "cursor = db.cursor()\n",
    "cursor.execute(\"USE lostark\")"
   ]
  },
  {
   "cell_type": "code",
   "execution_count": null,
   "metadata": {},
   "outputs": [],
   "source": []
  }
 ],
 "metadata": {
  "kernelspec": {
   "display_name": "Python 3 (ipykernel)",
   "language": "python",
   "name": "python3"
  },
  "language_info": {
   "codemirror_mode": {
    "name": "ipython",
    "version": 3
   },
   "file_extension": ".py",
   "mimetype": "text/x-python",
   "name": "python",
   "nbconvert_exporter": "python",
   "pygments_lexer": "ipython3",
   "version": "3.10.9"
  }
 },
 "nbformat": 4,
 "nbformat_minor": 4
}
