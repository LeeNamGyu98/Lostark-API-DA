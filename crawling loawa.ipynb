{
 "cells": [
  {
   "cell_type": "markdown",
   "id": "6b2110bb",
   "metadata": {},
   "source": [
    "로아와 사이트에서 캐릭터 네임 크롤링(https://loawa.com/rank)\n",
    "\n",
    "5레벨 단위로 500개의 케릭터 네임을 수집"
   ]
  },
  {
   "cell_type": "code",
   "execution_count": null,
   "id": "1694e1f1",
   "metadata": {},
   "outputs": [],
   "source": [
    "!pip install selenium\n",
    "!pip install webdriver_manager"
   ]
  },
  {
   "cell_type": "code",
   "execution_count": 19,
   "id": "80e67ddc",
   "metadata": {},
   "outputs": [],
   "source": [
    "with open(\"./character/characterName_list.txt\", \"r\", encoding=\"utf-8\") as f:\n",
    "    file_contents = f.read()\n",
    "    characterName_list = eval(file_contents)"
   ]
  },
  {
   "cell_type": "code",
   "execution_count": null,
   "id": "870e1367",
   "metadata": {},
   "outputs": [],
   "source": [
    "### Import ###\n",
    "from selenium import webdriver\n",
    "from webdriver_manager.chrome import ChromeDriverManager\n",
    "from selenium.webdriver.common.action_chains import ActionChains\n",
    "from selenium.webdriver.common.by import By\n",
    "from selenium.webdriver.support.ui import WebDriverWait\n",
    "from selenium.webdriver.support import expected_conditions as EC\n",
    "from selenium.webdriver.common.keys import Keys\n",
    "import time\n",
    "import re\n",
    "\n",
    "### Code ###\n",
    "#! Cloudflare로 인해 직접 클릭해줘야함\n",
    "driver = webdriver.Chrome()\n",
    "driver.get('https://loawa.com/rank')\n",
    "\n",
    "long_duration = 2\n",
    "short_duration = 2\n",
    "for _ in range(80000):\n",
    "    try:\n",
    "        # Wait 1 second to check the changed slider value.\n",
    "        wait = WebDriverWait(driver, 30)\n",
    "        more_button = wait.until(EC.presence_of_element_located((By.XPATH, \n",
    "                    '//*[@id=\"contents\"]/article/div[4]/div[3]/div/button')))\n",
    "        element = driver.find_element(By.XPATH, '//*[@id=\"contents\"]/article/div[4]/div[3]/div/button')\n",
    "        driver.execute_script(\"arguments[0].scrollIntoView();\", element)\n",
    "        time.sleep(short_duration)\n",
    "        more_button.click()\n",
    "        time.sleep(long_duration)\n",
    "    except Exception as e:\n",
    "        # If the button is not visible\n",
    "        print(\"more button Error:\", e)\n",
    "        break\n",
    "\n",
    "# Find and save the text content of the desired elements.\n",
    "elements = driver.find_elements(By.CSS_SELECTOR, \n",
    "        '#contents > article > div.row.rounded > table > tbody > tr > td > a')\n",
    "characterNames = [element.text for element in elements \n",
    "                  if (element.text != \"확인\") and (element.text != '')]\n",
    "\n",
    "with open(f'./character/loawa/loawa.txt', 'w', encoding='utf-8') as f:\n",
    "    f.write('\\n'.join(characterNames))\n",
    "\n",
    "driver.quit()"
   ]
  },
  {
   "cell_type": "code",
   "execution_count": null,
   "id": "388321cc",
   "metadata": {},
   "outputs": [],
   "source": [
    "characterName_list += characterNames\n",
    "characterName_list = list(set(characterName_list))\n",
    "with open(\"./character/characterName_list.txt\", \"a\", encoding=\"utf-8\") as f:\n",
    "    f.write(str(characterName_list))"
   ]
  }
 ],
 "metadata": {
  "kernelspec": {
   "display_name": "Python 3 (ipykernel)",
   "language": "python",
   "name": "python3"
  },
  "language_info": {
   "codemirror_mode": {
    "name": "ipython",
    "version": 3
   },
   "file_extension": ".py",
   "mimetype": "text/x-python",
   "name": "python",
   "nbconvert_exporter": "python",
   "pygments_lexer": "ipython3",
   "version": "3.10.9"
  }
 },
 "nbformat": 4,
 "nbformat_minor": 5
}
