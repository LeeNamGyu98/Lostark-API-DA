{
 "cells": [
  {
   "cell_type": "markdown",
   "metadata": {},
   "source": [
    "# 0. 코드 준비"
   ]
  },
  {
   "cell_type": "code",
   "execution_count": 1,
   "metadata": {},
   "outputs": [],
   "source": [
    "import json\n",
    "from pprint import pprint\n",
    "import time\n",
    "import datetime\n",
    "import pandas as pd\n",
    "import re"
   ]
  },
  {
   "cell_type": "code",
   "execution_count": 3,
   "metadata": {},
   "outputs": [
    {
     "data": {
      "text/plain": [
       "0"
      ]
     },
     "execution_count": 3,
     "metadata": {},
     "output_type": "execute_result"
    }
   ],
   "source": [
    "### DataBase ###\n",
    "import pymysql\n",
    "%reload_ext sql\n",
    "\n",
    "# get key\n",
    "with open('./key.json', 'r') as file:\n",
    "    key = json.load(file)\n",
    "\n",
    "# Connect to MySQL database\n",
    "db = pymysql.connect(host = 'localhost', \n",
    "                     port = 3306, \n",
    "                     user='root', \n",
    "                     passwd = key['password'],\n",
    "                     charset='utf8')\n",
    "\n",
    "# Create a cursor object\n",
    "cursor = db.cursor()\n",
    "cursor.execute(\"USE lostark\")"
   ]
  },
  {
   "cell_type": "code",
   "execution_count": 4,
   "metadata": {},
   "outputs": [],
   "source": [
    "def strip_dict(d):\n",
    "    dd = {}\n",
    "    for k, v in d.items():\n",
    "        if (type(k) == str) & (type(v) == str):\n",
    "            dd[re.sub(k)] =  re.sub(v)\n",
    "        elif type(v) == dict:\n",
    "            v = strip_dict(v)\n",
    "            dd[k] = v\n",
    "        else:\n",
    "            dd[k] = v\n",
    "    return dd"
   ]
  },
  {
   "cell_type": "code",
   "execution_count": 5,
   "metadata": {},
   "outputs": [],
   "source": [
    "db.close()"
   ]
  }
 ],
 "metadata": {
  "kernelspec": {
   "display_name": "Python 3",
   "language": "python",
   "name": "python3"
  },
  "language_info": {
   "codemirror_mode": {
    "name": "ipython",
    "version": 3
   },
   "file_extension": ".py",
   "mimetype": "text/x-python",
   "name": "python",
   "nbconvert_exporter": "python",
   "pygments_lexer": "ipython3",
   "version": "3.8.5"
  }
 },
 "nbformat": 4,
 "nbformat_minor": 4
}
